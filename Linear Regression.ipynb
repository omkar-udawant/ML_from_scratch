{
 "cells": [
  {
   "cell_type": "markdown",
   "metadata": {},
   "source": [
    "# Linear Regression \n",
    "\n",
    "Before learning what Linear regression is, let's understand what regression is.\n",
    "\n",
    "### Regression\n",
    "\n",
    "Regression analysis is a type of predictive modelling tehnique which finds the relationship between a dependent variable and an independent variable. It involves graphing a line over a set of data points that mostly fits the data. A regression shows the changes in the dependent variable on the Y-axis and independent variable(explanatory variable) on the X-axis.\n",
    "\n",
    "Regression is maily used in following applications,\n",
    "\n",
    "- Finding the strength of predictors \n",
    "\n",
    "- Analysis of Trends \n",
    "\n",
    "- Forecasting  \n",
    " \n",
    "\n",
    "Where can linear regression be used ?\n",
    "\n",
    "- Analyzing the effect of price changes \n",
    "\n",
    "- Assesment of risk in finance domain \n",
    "\n",
    "- Evaluating trends and sales estimates \n",
    " \n",
    "\n",
    "Now let's see how linear regression works,\n",
    "\n",
    "Suppose we have the dependent variable on Y-axis and the independent variable on the X-axis.\n",
    "\n",
    "- If both independent and depenedent variables are increasing, the line we'll get will be a positive regression line.\n",
    "\n",
    "- If both independent is increasing but depenedent variables is decresing, the line we'll get will be a negative regression line.\n",
    "\n",
    "This regression line that we'll get is nothing but our linear regression line. It will have the equation,   \\begin{align}\n",
    "y & = mx + c \\\\ \\end{align}\n",
    "\n",
    "Which is nothing but the equation of a line.\n",
    "\n",
    "\n",
    "Now, let's say we plot few points on the graph, and we want to find out the best fit line. In order to do that we'll have to find out a regression line which will have minimum distance from every point on the graph, which is nothing but minimizing the error in estimated values and the predicted values."
   ]
  },
  {
   "cell_type": "code",
   "execution_count": 1,
   "metadata": {},
   "outputs": [],
   "source": [
    "# Importing the necessary packages\n",
    "import pandas as pd\n",
    "import numpy as np \n",
    "%matplotlib inline\n",
    "import matplotlib.pyplot as plt"
   ]
  },
  {
   "cell_type": "code",
   "execution_count": 2,
   "metadata": {},
   "outputs": [
    {
     "name": "stdout",
     "output_type": "stream",
     "text": [
      "(237, 4)\n"
     ]
    },
    {
     "data": {
      "text/html": [
       "<div>\n",
       "<style scoped>\n",
       "    .dataframe tbody tr th:only-of-type {\n",
       "        vertical-align: middle;\n",
       "    }\n",
       "\n",
       "    .dataframe tbody tr th {\n",
       "        vertical-align: top;\n",
       "    }\n",
       "\n",
       "    .dataframe thead th {\n",
       "        text-align: right;\n",
       "    }\n",
       "</style>\n",
       "<table border=\"1\" class=\"dataframe\">\n",
       "  <thead>\n",
       "    <tr style=\"text-align: right;\">\n",
       "      <th></th>\n",
       "      <th>Gender</th>\n",
       "      <th>Age Range</th>\n",
       "      <th>Head Size(cm^3)</th>\n",
       "      <th>Brain Weight(grams)</th>\n",
       "    </tr>\n",
       "  </thead>\n",
       "  <tbody>\n",
       "    <tr>\n",
       "      <th>0</th>\n",
       "      <td>1</td>\n",
       "      <td>1</td>\n",
       "      <td>4512</td>\n",
       "      <td>1530</td>\n",
       "    </tr>\n",
       "    <tr>\n",
       "      <th>1</th>\n",
       "      <td>1</td>\n",
       "      <td>1</td>\n",
       "      <td>3738</td>\n",
       "      <td>1297</td>\n",
       "    </tr>\n",
       "    <tr>\n",
       "      <th>2</th>\n",
       "      <td>1</td>\n",
       "      <td>1</td>\n",
       "      <td>4261</td>\n",
       "      <td>1335</td>\n",
       "    </tr>\n",
       "    <tr>\n",
       "      <th>3</th>\n",
       "      <td>1</td>\n",
       "      <td>1</td>\n",
       "      <td>3777</td>\n",
       "      <td>1282</td>\n",
       "    </tr>\n",
       "    <tr>\n",
       "      <th>4</th>\n",
       "      <td>1</td>\n",
       "      <td>1</td>\n",
       "      <td>4177</td>\n",
       "      <td>1590</td>\n",
       "    </tr>\n",
       "  </tbody>\n",
       "</table>\n",
       "</div>"
      ],
      "text/plain": [
       "   Gender  Age Range  Head Size(cm^3)  Brain Weight(grams)\n",
       "0       1          1             4512                 1530\n",
       "1       1          1             3738                 1297\n",
       "2       1          1             4261                 1335\n",
       "3       1          1             3777                 1282\n",
       "4       1          1             4177                 1590"
      ]
     },
     "execution_count": 2,
     "metadata": {},
     "output_type": "execute_result"
    }
   ],
   "source": [
    "#Reading data from csv\n",
    "df = pd.read_csv('headbrain.csv', index_col=False)\n",
    "print(df.shape)\n",
    "df.head(5)"
   ]
  },
  {
   "cell_type": "code",
   "execution_count": 3,
   "metadata": {},
   "outputs": [],
   "source": [
    "# Now let's collect X and Y values for regression\n",
    "X = df['Head Size(cm^3)'].values\n",
    "Y = df['Brain Weight(grams)'].values"
   ]
  },
  {
   "cell_type": "code",
   "execution_count": 4,
   "metadata": {},
   "outputs": [
    {
     "name": "stdout",
     "output_type": "stream",
     "text": [
      "Slope: 0.26342933948939945\n",
      "Intercept: 325.57342104944223\n"
     ]
    }
   ],
   "source": [
    "# Now let's find mean values for X and Y and total number of values\n",
    "x_mean = np.mean(X)\n",
    "y_mean = np.mean(Y)\n",
    "n = len(X)\n",
    "\n",
    "# Let's find the values of m(slope) and c(intercept)\n",
    "numerator = denominator = 0\n",
    "for i in range(n):\n",
    "    numerator += (X[i] - x_mean) * (Y[i] - y_mean)\n",
    "    denominator += (X[i] - x_mean) ** 2\n",
    "    \n",
    "m = numerator / denominator\n",
    "c = y_mean - (m * x_mean)\n",
    "\n",
    "print(f'Slope: {m}\\nIntercept: {c}')"
   ]
  },
  {
   "cell_type": "markdown",
   "metadata": {},
   "source": [
    "##### This implies our equation is,\n",
    "\\begin{align}\n",
    "y & = 0.26342933948939945x + 325.57342104944223 \\\\ \\end{align}\n",
    " which is nothing but our linear regression model.\n",
    "\n",
    "Now let's see it visually,"
   ]
  },
  {
   "cell_type": "code",
   "execution_count": 5,
   "metadata": {},
   "outputs": [
    {
     "data": {
      "image/png": "[encoded data removed]",
      "text/plain": [
       "<Figure size 432x288 with 1 Axes>"
      ]
     },
     "metadata": {
      "needs_background": "light"
     },
     "output_type": "display_data"
    }
   ],
   "source": [
    "# Values and regression line\n",
    "max_x = np.max(X) + 100\n",
    "min_x = np.min(X) - 100\n",
    "\n",
    "# Get the line values for plotting\n",
    "x = np.linspace(min_x, max_x, 1000)\n",
    "y = m*x + c\n",
    "\n",
    "# Plot our line\n",
    "plt.plot(x, y, color='r', label='Linear regression line')\n",
    "plt.scatter(X, Y, c='b', label='Scatter plot')\n",
    "plt.xlabel('Head size in cm3')\n",
    "plt.ylabel('Brain weights in grams')\n",
    "plt.legend()\n",
    "plt.tight_layout()\n",
    "plt.show()\n",
    "plt.close()"
   ]
  },
  {
   "cell_type": "markdown",
   "metadata": {},
   "source": [
    "Now let's see how good is our model,"
   ]
  },
  {
   "cell_type": "code",
   "execution_count": 7,
   "metadata": {},
   "outputs": [
    {
     "name": "stdout",
     "output_type": "stream",
     "text": [
      "R2: 0.3606882800429997\n"
     ]
    }
   ],
   "source": [
    "total_square_sum = total_res_square_sum = 0\n",
    "for i in range(n):\n",
    "    pred = c + X[i] * m \n",
    "    total_square_sum += (Y[i] - y_mean) ** 2\n",
    "    total_res_square_sum += (Y[i] - pred) ** 2\n",
    "    \n",
    "r_square = total_res_square_sum / total_square_sum\n",
    "\n",
    "print(f'R2: {r_square}')"
   ]
  },
  {
   "cell_type": "code",
   "execution_count": null,
   "metadata": {},
   "outputs": [],
   "source": []
  }
 ],
 "metadata": {
  "kernelspec": {
   "display_name": "Python 3",
   "language": "python",
   "name": "python3"
  },
  "language_info": {
   "codemirror_mode": {
    "name": "ipython",
    "version": 3
   },
   "file_extension": ".py",
   "mimetype": "text/x-python",
   "name": "python",
   "nbconvert_exporter": "python",
   "pygments_lexer": "ipython3",
   "version": "3.7.3"
  }
 },
 "nbformat": 4,
 "nbformat_minor": 2
}
