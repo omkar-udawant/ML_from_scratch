{
 "cells": [
  {
   "cell_type": "markdown",
   "metadata": {},
   "source": [
    "# Linear Regression \n",
    "\n",
    "Before learning what Linear regression is, let's understand what regression is.\n",
    "\n",
    "### Regression\n",
    "\n",
    "Regression analysis is a type of predictive modelling tehnique which finds the relationship between a dependent variable and an independent variable. It involves graphing a line over a set of data points that mostly fits the data. A regression shows the changes in the dependent variable on the Y-axis and independent variable(explanatory variable) on the X-axis.\n",
    "\n",
    "Regression is maily used in following applications,\n",
    "\n",
    "- Finding the strength of predictors \n",
    "\n",
    "- Analysis of Trends \n",
    "\n",
    "- Forecasting  \n",
    " \n",
    "\n",
    "Where can linear regression be used ?\n",
    "\n",
    "- Analyzing the effect of price changes \n",
    "\n",
    "- Assesment of risk in finance domain \n",
    "\n",
    "- Evaluating trends and sales estimates \n",
    " \n",
    "## Linear Regression using Least Squares Method,\n",
    "\n",
    "Now let's see how linear regression works,\n",
    "\n",
    "Suppose we have the dependent variable on Y-axis and the independent variable on the X-axis.\n",
    "\n",
    "- If both independent and depenedent variables are increasing, the line we'll get will be a positive regression line.\n",
    "\n",
    "- If both independent is increasing but depenedent variables is decresing, the line we'll get will be a negative regression line.\n",
    "\n",
    "This regression line that we'll get is nothing but our linear regression line. It will have the equation,   \\begin{align}\n",
    "Y & = mX + c \\\\ \\end{align}\n",
    "\n",
    "Which is nothing but the equation of a line.\n",
    "\n",
    "\n",
    "Now, let's say we plot few points on the graph, and we want to find out the best fit line. In order to do that we'll have to find out a regression line which will have minimum distance from every point on the graph, which is nothing but minimizing the error in estimated values and the predicted values.\n",
    "\n",
    "In order to find out that regression line using least squares method we'll have to use following formulae,\n",
    " \n",
    " \n",
    " \\begin{align} \n",
    "     Slope &= \\frac{\\sum \\big(x_i - \\bar{x})\\big(y_i - \\bar{y})}{\\sum \\big(x_i - \\bar{x})^2}\n",
    " \\end{align}\n",
    " \n",
    " \\begin{align} \n",
    " Intercept &= \\bar{y} - m\\bar{x}\n",
    " \\end{align}\n"
   ]
  },
  {
   "cell_type": "code",
   "execution_count": 1,
   "metadata": {},
   "outputs": [],
   "source": [
    "# Importing the necessary packages\n",
    "import pandas as pd\n",
    "import numpy as np \n",
    "%matplotlib inline\n",
    "import matplotlib.pyplot as plt"
   ]
  },
  {
   "cell_type": "code",
   "execution_count": 2,
   "metadata": {},
   "outputs": [
    {
     "name": "stdout",
     "output_type": "stream",
     "text": [
      "(237, 4)\n"
     ]
    },
    {
     "data": {
      "text/html": [
       "<div>\n",
       "<style scoped>\n",
       "    .dataframe tbody tr th:only-of-type {\n",
       "        vertical-align: middle;\n",
       "    }\n",
       "\n",
       "    .dataframe tbody tr th {\n",
       "        vertical-align: top;\n",
       "    }\n",
       "\n",
       "    .dataframe thead th {\n",
       "        text-align: right;\n",
       "    }\n",
       "</style>\n",
       "<table border=\"1\" class=\"dataframe\">\n",
       "  <thead>\n",
       "    <tr style=\"text-align: right;\">\n",
       "      <th></th>\n",
       "      <th>Gender</th>\n",
       "      <th>Age Range</th>\n",
       "      <th>Head Size(cm^3)</th>\n",
       "      <th>Brain Weight(grams)</th>\n",
       "    </tr>\n",
       "  </thead>\n",
       "  <tbody>\n",
       "    <tr>\n",
       "      <th>0</th>\n",
       "      <td>1</td>\n",
       "      <td>1</td>\n",
       "      <td>4512</td>\n",
       "      <td>1530</td>\n",
       "    </tr>\n",
       "    <tr>\n",
       "      <th>1</th>\n",
       "      <td>1</td>\n",
       "      <td>1</td>\n",
       "      <td>3738</td>\n",
       "      <td>1297</td>\n",
       "    </tr>\n",
       "    <tr>\n",
       "      <th>2</th>\n",
       "      <td>1</td>\n",
       "      <td>1</td>\n",
       "      <td>4261</td>\n",
       "      <td>1335</td>\n",
       "    </tr>\n",
       "    <tr>\n",
       "      <th>3</th>\n",
       "      <td>1</td>\n",
       "      <td>1</td>\n",
       "      <td>3777</td>\n",
       "      <td>1282</td>\n",
       "    </tr>\n",
       "    <tr>\n",
       "      <th>4</th>\n",
       "      <td>1</td>\n",
       "      <td>1</td>\n",
       "      <td>4177</td>\n",
       "      <td>1590</td>\n",
       "    </tr>\n",
       "  </tbody>\n",
       "</table>\n",
       "</div>"
      ],
      "text/plain": [
       "   Gender  Age Range  Head Size(cm^3)  Brain Weight(grams)\n",
       "0       1          1             4512                 1530\n",
       "1       1          1             3738                 1297\n",
       "2       1          1             4261                 1335\n",
       "3       1          1             3777                 1282\n",
       "4       1          1             4177                 1590"
      ]
     },
     "execution_count": 2,
     "metadata": {},
     "output_type": "execute_result"
    }
   ],
   "source": [
    "#Reading data from csv\n",
    "df = pd.read_csv('headbrain.csv')\n",
    "print(df.shape)\n",
    "df.head(5)"
   ]
  },
  {
   "cell_type": "code",
   "execution_count": 3,
   "metadata": {},
   "outputs": [],
   "source": [
    "# Now let's collect X and Y values for regression\n",
    "X = df['Head Size(cm^3)'].values\n",
    "Y = df['Brain Weight(grams)'].values"
   ]
  },
  {
   "cell_type": "code",
   "execution_count": 4,
   "metadata": {},
   "outputs": [
    {
     "name": "stdout",
     "output_type": "stream",
     "text": [
      "Slope: 0.26342933948939945\n",
      "Intercept: 325.57342104944223\n"
     ]
    }
   ],
   "source": [
    "# Now let's find mean values for X and Y and total number of values\n",
    "x_mean = np.mean(X)\n",
    "y_mean = np.mean(Y)\n",
    "n = len(X)\n",
    "\n",
    "# Let's find the values of m(slope) and c(intercept)\n",
    "numerator = 0\n",
    "denominator = 0\n",
    "for i in range(n):\n",
    "    numerator += (X[i] - x_mean) * (Y[i] - y_mean)\n",
    "    denominator += (X[i] - x_mean) ** 2\n",
    "    \n",
    "m = numerator / denominator\n",
    "c = y_mean - (m * x_mean)\n",
    "\n",
    "print(f'Slope: {m}\\nIntercept: {c}')"
   ]
  },
  {
   "cell_type": "markdown",
   "metadata": {},
   "source": [
    "##### This implies our equation is,\n",
    "\\begin{align}\n",
    "Y & = 0.26342933948939945X + 325.57342104944223 \\\\ \\end{align} \n",
    "##### which is nothing but our linear regression model.\n",
    "\n",
    "Now let's see it visually,"
   ]
  },
  {
   "cell_type": "code",
   "execution_count": 5,
   "metadata": {},
   "outputs": [
    {
     "data": {
      "image/png": "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\n",
      "text/plain": [
       "<Figure size 432x288 with 1 Axes>"
      ]
     },
     "metadata": {
      "needs_background": "light"
     },
     "output_type": "display_data"
    }
   ],
   "source": [
    "# Values and regression line\n",
    "max_x = np.max(X) + 100\n",
    "min_x = np.min(X) - 100\n",
    "\n",
    "# Get the line values for plotting\n",
    "x = np.linspace(min_x, max_x, 100)\n",
    "y = m*x + c\n",
    "\n",
    "# Plot our line\n",
    "plt.plot(x, y, color='r', label='Linear regression line')\n",
    "plt.scatter(X, Y, c='b', label='Scatter plot')\n",
    "plt.xlabel('Head size in cm3')\n",
    "plt.ylabel('Brain weights in grams')\n",
    "plt.legend()\n",
    "plt.tight_layout()\n",
    "plt.show()\n",
    "plt.close()"
   ]
  },
  {
   "cell_type": "markdown",
   "metadata": {},
   "source": [
    "Now let's see how good is our model,"
   ]
  },
  {
   "cell_type": "code",
   "execution_count": 6,
   "metadata": {},
   "outputs": [
    {
     "name": "stdout",
     "output_type": "stream",
     "text": [
      "R2: 0.6393117199570003\n"
     ]
    }
   ],
   "source": [
    "total_square_sum = 0 \n",
    "total_res_square_sum = 0\n",
    "for i in range(n):\n",
    "    pred = c + X[i] * m \n",
    "    total_square_sum += (Y[i] - y_mean) ** 2\n",
    "    total_res_square_sum += (Y[i] - pred) ** 2\n",
    "    \n",
    "r_square = 1 - (total_res_square_sum / total_square_sum)\n",
    "\n",
    "print(f'R2: {r_square}')"
   ]
  },
  {
   "cell_type": "markdown",
   "metadata": {},
   "source": [
    "This is pretty decent R2 score.\n",
    "<hr>\n",
    "\n",
    "Now let's try to implement linear regression in a more optimized way using gradient descent. \n",
    "\n",
    "## Linear Regression using Gradient Descent\n",
    "\n",
    "In this approach, we define an error function which is basically the difference between sqaure of out predicted value and actual value of Y. Then we compute the partial derivatives with respect to slope and intercept. This derivative is called as gradient of our error function which guides us to find local minima, at which the error will be minimum.\n",
    "\n",
    "Following is the error funtion,\n",
    "\n",
    "<img src='https://miro.medium.com/max/615/1*AQKoBlrYPA6kjvW8XomKUQ.png' height=200 width=400>\n",
    "\n",
    "We will find our partial derivatives w.r.t <strong>m (Slope)</strong> and <strong>c (Intercept)</strong> as follows,\n",
    "\n",
    "<img src='https://miro.medium.com/max/596/1*3YJx2rdqMW5ccRJZFH9v6w.png' height=200 width=400>\n",
   ]
  },
  {
   "cell_type": "code",
   "execution_count": 7,
   "metadata": {
    "scrolled": true
   },
   "outputs": [
    {
     "name": "stdout",
     "output_type": "stream",
     "text": [
      "Finding error\n",
      "Starting gradient descent at b = 0 , m = 0 , error = 1660184.9240506329\n"
     ]
    },
    {
     "name": "stderr",
     "output_type": "stream",
     "text": [
      "C:\\Users\\Omkar\\AppData\\Local\\Continuum\\anaconda3\\lib\\site-packages\\ipykernel_launcher.py:18: RuntimeWarning: overflow encountered in multiply\n",
      "C:\\Users\\Omkar\\AppData\\Local\\Continuum\\anaconda3\\lib\\site-packages\\ipykernel_launcher.py:18: RuntimeWarning: overflow encountered in double_scalars\n",
      "C:\\Users\\Omkar\\AppData\\Local\\Continuum\\anaconda3\\lib\\site-packages\\ipykernel_launcher.py:20: RuntimeWarning: invalid value encountered in double_scalars\n"
     ]
    },
    {
     "name": "stdout",
     "output_type": "stream",
     "text": [
      "Finding error\n",
      "After 1000 iterations b = nan, m = nan, error = nan\n"
     ]
    }
   ],
   "source": [
    "def error(b, m, x, y):\n",
    "    '''This function will give us the error'''\n",
    "    print('Finding error')\n",
    "    n = len(x) \n",
    "    sse = 0\n",
    "    for i in range(n):  \n",
    "        sse += (y[i]  - (m * x[i] + b)) ** 2  # Sum of squared errors\n",
    "    sse = sse / n \n",
    "    return sse\n",
    "\n",
    "def gradient_descent(b_current, m_current, x, y, learning_rate):\n",
    "    '''Finding partial derivatives'''\n",
    "    b_gradient = 0\n",
    "    m_gradient = 0\n",
    "    n = len(x) \n",
    "    for i in range(n):\n",
    "        b_gradient +=   (2 * -(y[i] - (m_current * x[i] + b_current))) / n \n",
    "        m_gradient +=   (2 * -(x[i] * (y[i] - (m_current * x[i] + b_current)))) / n\n",
    "    b = b_current - (learning_rate * b_gradient)\n",
    "    m = m_current - (learning_rate * m_gradient) \n",
    "    return b, m\n",
    "\n",
    "def start_gradient_descent(x, y, starting_b, starting_m, learning_rate, num_iteartions):\n",
    "    b = starting_b\n",
    "    m = starting_m\n",
    "    for i in range(num_iteartions):\n",
    "        b,m = gradient_descent(b, m, x, y, learning_rate)\n",
    "    return b, m\n",
    "\n",
    "\n",
    "points = pd.read_csv('headbrain.csv')\n",
    "x = points['Head Size(cm^3)'].values\n",
    "y = points['Brain Weight(grams)'].values\n",
    "learning_rate = 0.0001  #how fast the data converges\n",
    "initial_b = 0  # initial y-intercept \n",
    "initial_m = 0  # initial slope \n",
    "num_iteartions = 1000\n",
    "\n",
    "initial_error = error(initial_b, initial_m, x, y)\n",
    "print(f'Starting gradient descent at b = {initial_b} , m = {initial_m} , error = {initial_error}') \n",
    "\n",
    "b, m = start_gradient_descent(x, y, initial_b, initial_m, learning_rate, num_iteartions)\n",
    "error_after = error(b, m, x, y)\n",
    "print(f'After {num_iteartions} iterations b = {b}, m = {m}, error = {error_after}')"
   ]
  },
  {
   "cell_type": "code",
   "execution_count": null,
   "metadata": {},
   "outputs": [],
   "source": []
  }
 ],
 "metadata": {
  "kernelspec": {
   "display_name": "Python 3",
   "language": "python",
   "name": "python3"
  },
  "language_info": {
   "codemirror_mode": {
    "name": "ipython",
    "version": 3
   },
   "file_extension": ".py",
   "mimetype": "text/x-python",
   "name": "python",
   "nbconvert_exporter": "python",
   "pygments_lexer": "ipython3",
   "version": "3.7.3"
  }
 },
 "nbformat": 4,
 "nbformat_minor": 2
}
